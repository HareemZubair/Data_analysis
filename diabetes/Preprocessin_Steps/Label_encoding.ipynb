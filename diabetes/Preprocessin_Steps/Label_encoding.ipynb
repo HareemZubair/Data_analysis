{
 "cells": [
  {
   "cell_type": "code",
   "execution_count": 3,
   "metadata": {},
   "outputs": [
    {
     "name": "stdout",
     "output_type": "stream",
     "text": [
      "age => 0\n",
      "bmi => 1\n",
      "bp => 2\n"
     ]
    }
   ],
   "source": [
    "from sklearn import preprocessing\n",
    "labels = ['age','bmi','bp']\n",
    "encoder = preprocessing.LabelEncoder()\n",
    "encoder.fit(labels)\n",
    "\n",
    "for i,item in enumerate (encoder.classes_):\n",
    "    print(item,'=>',i)"
   ]
  },
  {
   "cell_type": "code",
   "execution_count": 10,
   "metadata": {},
   "outputs": [
    {
     "name": "stdout",
     "output_type": "stream",
     "text": [
      "More Labels = ['age', 'bmi', 'bp']\n",
      "More Labels encoded = [0, 1, 2]\n"
     ]
    }
   ],
   "source": [
    "more_labels = ['age','bmi','bp']\n",
    "more_labels_encoded = encoder.transform(more_labels)\n",
    "print('More Labels =',more_labels)\n",
    "print('More Labels encoded =',list(more_labels_encoded))"
   ]
  },
  {
   "cell_type": "code",
   "execution_count": null,
   "metadata": {},
   "outputs": [],
   "source": []
  }
 ],
 "metadata": {
  "kernelspec": {
   "display_name": "Python 3",
   "language": "python",
   "name": "python3"
  },
  "language_info": {
   "codemirror_mode": {
    "name": "ipython",
    "version": 3
   },
   "file_extension": ".py",
   "mimetype": "text/x-python",
   "name": "python",
   "nbconvert_exporter": "python",
   "pygments_lexer": "ipython3",
   "version": "3.7.1"
  }
 },
 "nbformat": 4,
 "nbformat_minor": 2
}
